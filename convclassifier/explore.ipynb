{
 "cells": [
  {
   "cell_type": "code",
   "execution_count": 1,
   "metadata": {},
   "outputs": [],
   "source": [
    "import numpy as np\n",
    "import tensorflow as tf\n",
    "import matplotlib.pyplot as plt\n",
    "from mnistdata.loader import MNIST\n",
    "from convclassifier import n"
   ]
  },
  {
   "cell_type": "code",
   "execution_count": 2,
   "metadata": {},
   "outputs": [],
   "source": [
    "tf.reset_default_graph()"
   ]
  },
  {
   "cell_type": "code",
   "execution_count": 3,
   "metadata": {},
   "outputs": [],
   "source": [
    "x = tf.placeholder(tf.float32, [None, 784], name='x')\n",
    "xs = tf.reshape(x, [-1, 28, 28, 1])\n",
    "py = n(xs)"
   ]
  },
  {
   "cell_type": "code",
   "execution_count": 4,
   "metadata": {},
   "outputs": [
    {
     "name": "stdout",
     "output_type": "stream",
     "text": [
      "INFO:tensorflow:Restoring parameters from model/model.ckpt\n"
     ]
    }
   ],
   "source": [
    "sess = tf.Session()\n",
    "saver = tf.train.Saver()\n",
    "saver.restore(sess, 'model/model.ckpt')"
   ]
  },
  {
   "cell_type": "code",
   "execution_count": 5,
   "metadata": {},
   "outputs": [],
   "source": [
    "mnist = MNIST('../MNIST')"
   ]
  },
  {
   "cell_type": "code",
   "execution_count": 6,
   "metadata": {},
   "outputs": [],
   "source": [
    "mitem, nitem = 3, 4\n",
    "x_batch, y_batch = mnist.next_batch(mitem*nitem)\n",
    "py_batch = sess.run(py, {x: x_batch})\n",
    "py_batch = np.argmax(py_batch, axis=1)"
   ]
  },
  {
   "cell_type": "code",
   "execution_count": 7,
   "metadata": {},
   "outputs": [
    {
     "data": {
      "image/png": "[encoded data removed]",
      "text/plain": [
       "<Figure size 432x288 with 12 Axes>"
      ]
     },
     "metadata": {},
     "output_type": "display_data"
    }
   ],
   "source": [
    "fig, axs = plt.subplots(mitem, nitem)\n",
    "fi = 0\n",
    "for i in range(mitem):\n",
    "    for j in range(nitem):\n",
    "        axs[i, j].imshow(x_batch[fi].reshape([28, 28]), cmap='gray')\n",
    "        axs[i, j].axis('off')\n",
    "        axs[i, j].set_title('y={0}, yp={1}'.format(y_batch[fi], py_batch[fi]))\n",
    "        fi += 1\n",
    "fig.tight_layout()\n",
    "plt.show()"
   ]
  },
  {
   "cell_type": "code",
   "execution_count": 8,
   "metadata": {},
   "outputs": [
    {
     "data": {
      "text/plain": [
       "[<tf.Variable 'c1/kernel:0' shape=(5, 5, 1, 32) dtype=float32_ref>,\n",
       " <tf.Variable 'c1/bias:0' shape=(32,) dtype=float32_ref>,\n",
       " <tf.Variable 'c2/kernel:0' shape=(5, 5, 32, 64) dtype=float32_ref>,\n",
       " <tf.Variable 'c2/bias:0' shape=(64,) dtype=float32_ref>,\n",
       " <tf.Variable 'd1/kernel:0' shape=(256, 100) dtype=float32_ref>,\n",
       " <tf.Variable 'd1/bias:0' shape=(100,) dtype=float32_ref>,\n",
       " <tf.Variable 'd2/kernel:0' shape=(100, 10) dtype=float32_ref>,\n",
       " <tf.Variable 'd2/bias:0' shape=(10,) dtype=float32_ref>]"
      ]
     },
     "execution_count": 8,
     "metadata": {},
     "output_type": "execute_result"
    }
   ],
   "source": [
    "all_variables = tf.trainable_variables()\n",
    "all_variables"
   ]
  },
  {
   "cell_type": "code",
   "execution_count": 27,
   "metadata": {},
   "outputs": [
    {
     "data": {
      "image/png": "[encoded data removed]",
      "text/plain": [
       "<Figure size 432x288 with 32 Axes>"
      ]
     },
     "metadata": {},
     "output_type": "display_data"
    }
   ],
   "source": [
    "with tf.variable_scope('c1', reuse=tf.AUTO_REUSE):\n",
    "    ks = sess.run(tf.get_variable('kernel', [5, 5, 1, 32]))\n",
    "print('Filters from first layer')\n",
    "fig, axs = plt.subplots(4, 8)\n",
    "a = 0\n",
    "for i in range(4):\n",
    "    for j in range(8):\n",
    "        axs[i, j].imshow(ks[:, :, 0, a], cmap='gray')\n",
    "        axs[i, j].axis('off')\n",
    "        a += 1\n",
    "plt.show()"
   ]
  },
  {
   "cell_type": "code",
   "execution_count": null,
   "metadata": {},
   "outputs": [],
   "source": []
  }
 ],
 "metadata": {
  "kernelspec": {
   "display_name": "Python 3",
   "language": "python",
   "name": "python3"
  },
  "language_info": {
   "codemirror_mode": {
    "name": "ipython",
    "version": 3
   },
   "file_extension": ".py",
   "mimetype": "text/x-python",
   "name": "python",
   "nbconvert_exporter": "python",
   "pygments_lexer": "ipython3",
   "version": "3.6.6"
  }
 },
 "nbformat": 4,
 "nbformat_minor": 2
}
